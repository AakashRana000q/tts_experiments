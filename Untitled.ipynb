{
 "cells": [
  {
   "cell_type": "code",
   "execution_count": 19,
   "id": "ae67b38a-5ded-4d81-8c02-b918f97d9a4b",
   "metadata": {},
   "outputs": [
    {
     "name": "stderr",
     "output_type": "stream",
     "text": [
      "/workspace/tts_env/lib/python3.11/site-packages/tqdm/auto.py:21: TqdmWarning: IProgress not found. Please update jupyter and ipywidgets. See https://ipywidgets.readthedocs.io/en/stable/user_install.html\n",
      "  from .autonotebook import tqdm as notebook_tqdm\n"
     ]
    }
   ],
   "source": [
    "import pandas as pd\n",
    "from sal.config import Config\n",
    "from sal.utils.parser import H4ArgumentParser"
   ]
  },
  {
   "cell_type": "code",
   "execution_count": 20,
   "id": "688079f2-0da0-4385-87fc-c458ebd0cd5a",
   "metadata": {},
   "outputs": [
    {
     "ename": "ValueError",
     "evalue": "Some specified arguments are not used by the HfArgumentParser: ['-f', '/root/.local/share/jupyter/runtime/kernel-4c80ea62-7cc6-4584-a147-ab27b3e92559.json']",
     "output_type": "error",
     "traceback": [
      "\u001b[31m---------------------------------------------------------------------------\u001b[39m",
      "\u001b[31mValueError\u001b[39m                                Traceback (most recent call last)",
      "\u001b[36mCell\u001b[39m\u001b[36m \u001b[39m\u001b[32mIn[20]\u001b[39m\u001b[32m, line 2\u001b[39m\n\u001b[32m      1\u001b[39m parser = H4ArgumentParser(Config)\n\u001b[32m----> \u001b[39m\u001b[32m2\u001b[39m config = \u001b[43mparser\u001b[49m\u001b[43m.\u001b[49m\u001b[43mparse\u001b[49m\u001b[43m(\u001b[49m\u001b[43m)\u001b[49m\n",
      "\u001b[36mFile \u001b[39m\u001b[32m/workspace/projects/tts_experiments/src/sal/utils/parser.py:113\u001b[39m, in \u001b[36mH4ArgumentParser.parse\u001b[39m\u001b[34m(self, allow_extra_keys)\u001b[39m\n\u001b[32m    108\u001b[39m     output = \u001b[38;5;28mself\u001b[39m.parse_yaml_and_args(\n\u001b[32m    109\u001b[39m         os.path.abspath(sys.argv[\u001b[32m1\u001b[39m]), sys.argv[\u001b[32m2\u001b[39m:]\n\u001b[32m    110\u001b[39m     )\n\u001b[32m    111\u001b[39m \u001b[38;5;66;03m# parse command line args only\u001b[39;00m\n\u001b[32m    112\u001b[39m \u001b[38;5;28;01melse\u001b[39;00m:\n\u001b[32m--> \u001b[39m\u001b[32m113\u001b[39m     output = \u001b[38;5;28;43mself\u001b[39;49m\u001b[43m.\u001b[49m\u001b[43mparse_args_into_dataclasses\u001b[49m\u001b[43m(\u001b[49m\u001b[43m)\u001b[49m\n\u001b[32m    115\u001b[39m \u001b[38;5;28;01mif\u001b[39;00m \u001b[38;5;28mlen\u001b[39m(output) == \u001b[32m1\u001b[39m:\n\u001b[32m    116\u001b[39m     output = output[\u001b[32m0\u001b[39m]\n",
      "\u001b[36mFile \u001b[39m\u001b[32m/workspace/tts_env/lib/python3.11/site-packages/transformers/hf_argparser.py:366\u001b[39m, in \u001b[36mHfArgumentParser.parse_args_into_dataclasses\u001b[39m\u001b[34m(self, args, return_remaining_strings, look_for_args_file, args_filename, args_file_flag)\u001b[39m\n\u001b[32m    364\u001b[39m \u001b[38;5;28;01melse\u001b[39;00m:\n\u001b[32m    365\u001b[39m     \u001b[38;5;28;01mif\u001b[39;00m remaining_args:\n\u001b[32m--> \u001b[39m\u001b[32m366\u001b[39m         \u001b[38;5;28;01mraise\u001b[39;00m \u001b[38;5;167;01mValueError\u001b[39;00m(\u001b[33mf\u001b[39m\u001b[33m\"\u001b[39m\u001b[33mSome specified arguments are not used by the HfArgumentParser: \u001b[39m\u001b[38;5;132;01m{\u001b[39;00mremaining_args\u001b[38;5;132;01m}\u001b[39;00m\u001b[33m\"\u001b[39m)\n\u001b[32m    368\u001b[39m     \u001b[38;5;28;01mreturn\u001b[39;00m (*outputs,)\n",
      "\u001b[31mValueError\u001b[39m: Some specified arguments are not used by the HfArgumentParser: ['-f', '/root/.local/share/jupyter/runtime/kernel-4c80ea62-7cc6-4584-a147-ab27b3e92559.json']"
     ]
    }
   ],
   "source": [
    "parser = H4ArgumentParser(Config)\n",
    "config = parser.parse()"
   ]
  },
  {
   "cell_type": "code",
   "execution_count": 2,
   "id": "8d4a3dc5-cee9-4130-8d6b-5c0362df9c35",
   "metadata": {},
   "outputs": [],
   "source": [
    "df = pd.read_json(\"/workspace/projects/tts_experiments/logs/dss/20250310_055859_062566_cluster_logs/cluster_log.json\")"
   ]
  },
  {
   "cell_type": "code",
   "execution_count": 5,
   "id": "144aadd1-bfe4-4afa-96c9-beee0ee6663e",
   "metadata": {},
   "outputs": [],
   "source": [
    "comp_id = list(set(df['problem_id'].unique()))"
   ]
  },
  {
   "cell_type": "code",
   "execution_count": 7,
   "id": "4ea74518-58e1-495f-97bb-8d0d51bf7d4e",
   "metadata": {},
   "outputs": [
    {
     "data": {
      "text/plain": [
       "13"
      ]
     },
     "execution_count": 7,
     "metadata": {},
     "output_type": "execute_result"
    }
   ],
   "source": [
    "len(comp_id)"
   ]
  },
  {
   "cell_type": "code",
   "execution_count": 12,
   "id": "a16b000e-a148-48b0-a38f-af77c98ccfab",
   "metadata": {},
   "outputs": [
    {
     "data": {
      "text/plain": [
       "17"
      ]
     },
     "execution_count": 12,
     "metadata": {},
     "output_type": "execute_result"
    }
   ],
   "source": [
    "len(df[df['problem_id']==\"test/intermediate_algebra/754.json\"])"
   ]
  },
  {
   "cell_type": "code",
   "execution_count": 15,
   "id": "f3d3fd62-b918-40de-a114-c5a87bd65e2d",
   "metadata": {},
   "outputs": [
    {
     "data": {
      "text/plain": [
       "39"
      ]
     },
     "execution_count": 15,
     "metadata": {},
     "output_type": "execute_result"
    }
   ],
   "source": [
    "len(df[df['problem_id']==\"test/algebra/2789.json\"])"
   ]
  },
  {
   "cell_type": "code",
   "execution_count": 17,
   "id": "2bc6ffe1-911b-4ff7-a2ce-d36e0ec87e10",
   "metadata": {},
   "outputs": [
    {
     "name": "stdout",
     "output_type": "stream",
     "text": [
      "test/number_theory/342.json  :  39\n",
      "test/prealgebra/996.json  :  39\n",
      "test/algebra/2789.json  :  39\n",
      "test/counting_and_probability/761.json  :  39\n",
      "test/geometry/226.json  :  39\n",
      "test/prealgebra/1113.json  :  40\n",
      "test/algebra/722.json  :  40\n",
      "test/number_theory/612.json  :  39\n",
      "test/intermediate_algebra/2046.json  :  39\n",
      "test/intermediate_algebra/754.json  :  17\n",
      "test/prealgebra/307.json  :  39\n",
      "test/number_theory/466.json  :  39\n",
      "test/algebra/24.json  :  39\n"
     ]
    }
   ],
   "source": [
    "for item in comp_id:\n",
    "    print(item,\" : \",len(df[df['problem_id']==item]))"
   ]
  },
  {
   "cell_type": "code",
   "execution_count": 9,
   "id": "f5a5ac6d-b388-4c87-af8a-1c1cb1b71d37",
   "metadata": {},
   "outputs": [
    {
     "ename": "KeyError",
     "evalue": "'level'",
     "output_type": "error",
     "traceback": [
      "\u001b[31m---------------------------------------------------------------------------\u001b[39m",
      "\u001b[31mKeyError\u001b[39m                                  Traceback (most recent call last)",
      "\u001b[36mFile \u001b[39m\u001b[32m/workspace/tts_env/lib/python3.11/site-packages/pandas/core/indexes/base.py:3805\u001b[39m, in \u001b[36mIndex.get_loc\u001b[39m\u001b[34m(self, key)\u001b[39m\n\u001b[32m   3804\u001b[39m \u001b[38;5;28;01mtry\u001b[39;00m:\n\u001b[32m-> \u001b[39m\u001b[32m3805\u001b[39m     \u001b[38;5;28;01mreturn\u001b[39;00m \u001b[38;5;28;43mself\u001b[39;49m\u001b[43m.\u001b[49m\u001b[43m_engine\u001b[49m\u001b[43m.\u001b[49m\u001b[43mget_loc\u001b[49m\u001b[43m(\u001b[49m\u001b[43mcasted_key\u001b[49m\u001b[43m)\u001b[49m\n\u001b[32m   3806\u001b[39m \u001b[38;5;28;01mexcept\u001b[39;00m \u001b[38;5;167;01mKeyError\u001b[39;00m \u001b[38;5;28;01mas\u001b[39;00m err:\n",
      "\u001b[36mFile \u001b[39m\u001b[32mindex.pyx:167\u001b[39m, in \u001b[36mpandas._libs.index.IndexEngine.get_loc\u001b[39m\u001b[34m()\u001b[39m\n",
      "\u001b[36mFile \u001b[39m\u001b[32mindex.pyx:196\u001b[39m, in \u001b[36mpandas._libs.index.IndexEngine.get_loc\u001b[39m\u001b[34m()\u001b[39m\n",
      "\u001b[36mFile \u001b[39m\u001b[32mpandas/_libs/hashtable_class_helper.pxi:7081\u001b[39m, in \u001b[36mpandas._libs.hashtable.PyObjectHashTable.get_item\u001b[39m\u001b[34m()\u001b[39m\n",
      "\u001b[36mFile \u001b[39m\u001b[32mpandas/_libs/hashtable_class_helper.pxi:7089\u001b[39m, in \u001b[36mpandas._libs.hashtable.PyObjectHashTable.get_item\u001b[39m\u001b[34m()\u001b[39m\n",
      "\u001b[31mKeyError\u001b[39m: 'level'",
      "\nThe above exception was the direct cause of the following exception:\n",
      "\u001b[31mKeyError\u001b[39m                                  Traceback (most recent call last)",
      "\u001b[36mCell\u001b[39m\u001b[36m \u001b[39m\u001b[32mIn[9]\u001b[39m\u001b[32m, line 1\u001b[39m\n\u001b[32m----> \u001b[39m\u001b[32m1\u001b[39m \u001b[43mdf\u001b[49m\u001b[43m[\u001b[49m\u001b[33;43m'\u001b[39;49m\u001b[33;43mlevel\u001b[39;49m\u001b[33;43m'\u001b[39;49m\u001b[43m]\u001b[49m.value_counts()\n",
      "\u001b[36mFile \u001b[39m\u001b[32m/workspace/tts_env/lib/python3.11/site-packages/pandas/core/frame.py:4102\u001b[39m, in \u001b[36mDataFrame.__getitem__\u001b[39m\u001b[34m(self, key)\u001b[39m\n\u001b[32m   4100\u001b[39m \u001b[38;5;28;01mif\u001b[39;00m \u001b[38;5;28mself\u001b[39m.columns.nlevels > \u001b[32m1\u001b[39m:\n\u001b[32m   4101\u001b[39m     \u001b[38;5;28;01mreturn\u001b[39;00m \u001b[38;5;28mself\u001b[39m._getitem_multilevel(key)\n\u001b[32m-> \u001b[39m\u001b[32m4102\u001b[39m indexer = \u001b[38;5;28;43mself\u001b[39;49m\u001b[43m.\u001b[49m\u001b[43mcolumns\u001b[49m\u001b[43m.\u001b[49m\u001b[43mget_loc\u001b[49m\u001b[43m(\u001b[49m\u001b[43mkey\u001b[49m\u001b[43m)\u001b[49m\n\u001b[32m   4103\u001b[39m \u001b[38;5;28;01mif\u001b[39;00m is_integer(indexer):\n\u001b[32m   4104\u001b[39m     indexer = [indexer]\n",
      "\u001b[36mFile \u001b[39m\u001b[32m/workspace/tts_env/lib/python3.11/site-packages/pandas/core/indexes/base.py:3812\u001b[39m, in \u001b[36mIndex.get_loc\u001b[39m\u001b[34m(self, key)\u001b[39m\n\u001b[32m   3807\u001b[39m     \u001b[38;5;28;01mif\u001b[39;00m \u001b[38;5;28misinstance\u001b[39m(casted_key, \u001b[38;5;28mslice\u001b[39m) \u001b[38;5;129;01mor\u001b[39;00m (\n\u001b[32m   3808\u001b[39m         \u001b[38;5;28misinstance\u001b[39m(casted_key, abc.Iterable)\n\u001b[32m   3809\u001b[39m         \u001b[38;5;129;01mand\u001b[39;00m \u001b[38;5;28many\u001b[39m(\u001b[38;5;28misinstance\u001b[39m(x, \u001b[38;5;28mslice\u001b[39m) \u001b[38;5;28;01mfor\u001b[39;00m x \u001b[38;5;129;01min\u001b[39;00m casted_key)\n\u001b[32m   3810\u001b[39m     ):\n\u001b[32m   3811\u001b[39m         \u001b[38;5;28;01mraise\u001b[39;00m InvalidIndexError(key)\n\u001b[32m-> \u001b[39m\u001b[32m3812\u001b[39m     \u001b[38;5;28;01mraise\u001b[39;00m \u001b[38;5;167;01mKeyError\u001b[39;00m(key) \u001b[38;5;28;01mfrom\u001b[39;00m\u001b[38;5;250m \u001b[39m\u001b[34;01merr\u001b[39;00m\n\u001b[32m   3813\u001b[39m \u001b[38;5;28;01mexcept\u001b[39;00m \u001b[38;5;167;01mTypeError\u001b[39;00m:\n\u001b[32m   3814\u001b[39m     \u001b[38;5;66;03m# If we have a listlike key, _check_indexing_error will raise\u001b[39;00m\n\u001b[32m   3815\u001b[39m     \u001b[38;5;66;03m#  InvalidIndexError. Otherwise we fall through and re-raise\u001b[39;00m\n\u001b[32m   3816\u001b[39m     \u001b[38;5;66;03m#  the TypeError.\u001b[39;00m\n\u001b[32m   3817\u001b[39m     \u001b[38;5;28mself\u001b[39m._check_indexing_error(key)\n",
      "\u001b[31mKeyError\u001b[39m: 'level'"
     ]
    }
   ],
   "source": [
    "df['level'].value_counts()"
   ]
  },
  {
   "cell_type": "code",
   "execution_count": 18,
   "id": "9839c354-e3b8-4b3f-83aa-3147e3427696",
   "metadata": {},
   "outputs": [
    {
     "data": {
      "text/plain": [
       "['test/number_theory/342.json',\n",
       " 'test/prealgebra/996.json',\n",
       " 'test/algebra/2789.json',\n",
       " 'test/counting_and_probability/761.json',\n",
       " 'test/geometry/226.json',\n",
       " 'test/prealgebra/1113.json',\n",
       " 'test/algebra/722.json',\n",
       " 'test/number_theory/612.json',\n",
       " 'test/intermediate_algebra/2046.json',\n",
       " 'test/intermediate_algebra/754.json',\n",
       " 'test/prealgebra/307.json',\n",
       " 'test/number_theory/466.json',\n",
       " 'test/algebra/24.json']"
      ]
     },
     "execution_count": 18,
     "metadata": {},
     "output_type": "execute_result"
    }
   ],
   "source": [
    "comp_id"
   ]
  },
  {
   "cell_type": "code",
   "execution_count": null,
   "id": "dc9ad78f-0899-4aa3-b0e2-6305fb4d7354",
   "metadata": {},
   "outputs": [],
   "source": [
    "['test/number_theory/342.json',\n",
    " 'test/prealgebra/996.json',\n",
    " 'test/algebra/2789.json',\n",
    " 'test/counting_and_probability/761.json',\n",
    " 'test/geometry/226.json',\n",
    " 'test/prealgebra/1113.json',\n",
    " 'test/algebra/722.json',\n",
    " 'test/number_theory/612.json',\n",
    " 'test/intermediate_algebra/2046.json',\n",
    " 'test/prealgebra/307.json',\n",
    " 'test/number_theory/466.json',\n",
    " 'test/algebra/24.json']"
   ]
  },
  {
   "cell_type": "code",
   "execution_count": null,
   "id": "0f7b193e-b7d5-4ec9-844d-dfce331ac389",
   "metadata": {},
   "outputs": [],
   "source": []
  },
  {
   "cell_type": "code",
   "execution_count": null,
   "id": "d9d846f1-f2bc-403c-91cb-f03252995d9b",
   "metadata": {},
   "outputs": [],
   "source": [
    "dataset = get_dataset(config)\n",
    "df = pd.DataFrame(dataset)\n",
    "df = df.groupby('level', group_keys=False).apply(lambda x: x.sample(n=10, random_state=42))"
   ]
  },
  {
   "cell_type": "code",
   "execution_count": null,
   "id": "66d7a59f-f162-4e7e-9e81-74b2a9410373",
   "metadata": {},
   "outputs": [],
   "source": []
  },
  {
   "cell_type": "code",
   "execution_count": null,
   "id": "95a81864-8d2e-4171-81d8-0c532883134d",
   "metadata": {},
   "outputs": [],
   "source": []
  }
 ],
 "metadata": {
  "kernelspec": {
   "display_name": "tts_env",
   "language": "python",
   "name": "tts_env"
  },
  "language_info": {
   "codemirror_mode": {
    "name": "ipython",
    "version": 3
   },
   "file_extension": ".py",
   "mimetype": "text/x-python",
   "name": "python",
   "nbconvert_exporter": "python",
   "pygments_lexer": "ipython3",
   "version": "3.11.10"
  }
 },
 "nbformat": 4,
 "nbformat_minor": 5
}
